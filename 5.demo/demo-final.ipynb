{
 "cells": [
  {
   "cell_type": "code",
   "execution_count": 1,
   "metadata": {},
   "outputs": [],
   "source": [
    "#librerias\n",
    "import ipywidgets as widgets\n",
    "from ipywidgets import interact\n",
    "import pandas as pd\n",
    "import networkx as nx\n",
    "import osmnx as ox\n",
    "from IPython.display import display\n",
    "import folium\n",
    "import ruteador\n",
    "import generadoDF\n",
    "import codif"
   ]
  },
  {
   "cell_type": "code",
   "execution_count": 2,
   "metadata": {
    "scrolled": false
   },
   "outputs": [
    {
     "name": "stdout",
     "output_type": "stream",
     "text": [
      "\u001b[1mElija la cantidad de Nodos No Abastecidos que desea ver\u001b[1m\n"
     ]
    },
    {
     "data": {
      "application/vnd.jupyter.widget-view+json": {
       "model_id": "ac07b132fcee40e9ba9bb34370d49ac6",
       "version_major": 2,
       "version_minor": 0
      },
      "text/plain": [
       "IntSlider(value=0, description='#Nodos', max=4280, step=200)"
      ]
     },
     "metadata": {},
     "output_type": "display_data"
    },
    {
     "data": {
      "application/vnd.jupyter.widget-view+json": {
       "model_id": "1cb4c11cd02a43d69d15355af875265d",
       "version_major": 2,
       "version_minor": 0
      },
      "text/plain": [
       "interactive(children=(IntText(value=0, description=' '), Output()), _dom_classes=('widget-interact',))"
      ]
     },
     "metadata": {},
     "output_type": "display_data"
    }
   ],
   "source": [
    "##  MAPAS Y PUNTOS\n",
    "\n",
    "#CREANDO BOTONES\n",
    "print('\\033[1m'+\"Elija la cantidad de Nodos No Abastecidos que desea ver\"+'\\033[1m')\n",
    "slider = widgets.IntSlider(min=0, max=4280, step=200, description='#Nodos')\n",
    "text = widgets.IntText(description = ' ')\n",
    "widgets.jslink((slider, 'value'), (text, 'value'))\n",
    "\n",
    "\n",
    "#CREANDO PUNTOS EN EL MAPA\n",
    "def MapPointer (long):\n",
    "    mapa = folium.Map(location=[-12.06115, -77.00935], zoom_start=10, titles='Lima, Perú')\n",
    "    \n",
    "    dfSurti=generadoDF.DfGenerator('surtidoresajustados.csv')\n",
    "    dfNodoNoA = generadoDF.DfGenerator('nodosnoabastecidos.csv')\n",
    "  \n",
    "    for punto in range(0, len(dfSurti)):\n",
    "        folium.Marker([dfSurti['y'][punto], dfSurti['x'][punto]], popup=dfSurti['name'][punto], tooltip='Ver #Surtidor', icon=folium.Icon(color='blue', icon='tint')).add_to(mapa)\n",
    "    \n",
    "    for punto in range(0, long):\n",
    "        folium.Marker([dfNodoNoA['y'][punto], dfNodoNoA['x'][punto]], popup=dfNodoNoA['name'][punto], tooltip='Ver #NodoNoAbast', icon=folium.Icon(color='green', icon='home')).add_to(mapa)\n",
    "    \n",
    "    return mapa\n",
    "\n",
    "\n",
    "#RERPODUCIENDO LO ANTERIOR\n",
    "display(slider)    \n",
    "inter=interact(MapPointer, long= text)"
   ]
  },
  {
   "cell_type": "code",
   "execution_count": 3,
   "metadata": {},
   "outputs": [
    {
     "name": "stdout",
     "output_type": "stream",
     "text": [
      "Inserte el numero de surtidor: \n",
      "Ejm: SURT4\n",
      "SURT20\n",
      "El osmid del Surtido es: 306327614\n",
      "\n",
      "\n",
      "Inserte el numero de Nodo No Abastecido: \n",
      "Ejm: NOABA4\n",
      "NOABA400\n",
      "El osmid del Nodo No Abastecido es: 5027428104\n"
     ]
    }
   ],
   "source": [
    "#MENU PARA ELEGIR LOS PUNTOS\n",
    "\n",
    "tipoSurt='surtidor'\n",
    "tipoNodoNAba='Nodo No Abastecido'\n",
    "\n",
    "exCodiSurt = 'SURT4'\n",
    "exCodiNodoNAba = 'NOABA4'\n",
    "\n",
    "dfSurti=generadoDF.DfGenerator('surtidoresajustados.csv')\n",
    "dfNodoNoA = generadoDF.DfGenerator('nodosnoabastecidos.csv')\n",
    "            \n",
    "sourceSURT = codif.Codificador(tipoSurt, exCodiSurt, dfSurti)\n",
    "print('El osmid del Surtido es:', sourceSURT)\n",
    "print('\\n')\n",
    "targetNdoNAba = codif.Codificador(tipoNodoNAba, exCodiNodoNAba, dfNodoNoA)\n",
    "print('El osmid del Nodo No Abastecido es:', targetNdoNAba)"
   ]
  },
  {
   "cell_type": "code",
   "execution_count": 4,
   "metadata": {},
   "outputs": [
    {
     "data": {
      "application/vnd.jupyter.widget-view+json": {
       "model_id": "27e7fcef06a945b584540aebba18dddf",
       "version_major": 2,
       "version_minor": 0
      },
      "text/plain": [
       "interactive(children=(Dropdown(description='peso', options=(('-', '-'), ('Distancia', 'legnth'), ('Tiempo', 't…"
      ]
     },
     "metadata": {},
     "output_type": "display_data"
    }
   ],
   "source": [
    "def opciones(peso):\n",
    "    G=nx.read_graphml(\"lima-tiempo.graphml\")\n",
    "    ruta=ruteador.Roptima(G,str(sourceSURT),str(targetNdoNAba),peso)\n",
    "    return ox.plot_route_folium(G,ruta, route_color='green')\n",
    "    \n",
    "\n",
    "weight1 = interact(opciones, peso=[('-','-'),('Distancia','legnth'),('Tiempo','tiempo')])"
   ]
  },
  {
   "cell_type": "code",
   "execution_count": null,
   "metadata": {},
   "outputs": [],
   "source": []
  }
 ],
 "metadata": {
  "kernelspec": {
   "display_name": "Python 3",
   "language": "python",
   "name": "python3"
  },
  "language_info": {
   "codemirror_mode": {
    "name": "ipython",
    "version": 3
   },
   "file_extension": ".py",
   "mimetype": "text/x-python",
   "name": "python",
   "nbconvert_exporter": "python",
   "pygments_lexer": "ipython3",
   "version": "3.8.1"
  }
 },
 "nbformat": 4,
 "nbformat_minor": 2
}
