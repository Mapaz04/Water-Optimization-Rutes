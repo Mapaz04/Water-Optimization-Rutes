{
 "cells": [
  {
   "cell_type": "markdown",
   "metadata": {},
   "source": [
    "## Librerias"
   ]
  },
  {
   "cell_type": "code",
   "execution_count": 1,
   "metadata": {
    "scrolled": true
   },
   "outputs": [],
   "source": [
    "#librerias\n",
    "import pandas as pd\n",
    "import numpy as np\n",
    "import networkx as nx\n",
    "import osmnx as ox\n",
    "import generadoDF\n",
    "import statistics as st"
   ]
  },
  {
   "cell_type": "markdown",
   "metadata": {},
   "source": [
    "## Data"
   ]
  },
  {
   "cell_type": "markdown",
   "metadata": {},
   "source": [
    "#### Cambiar nombre a partir del grafo que va usar"
   ]
  },
  {
   "cell_type": "code",
   "execution_count": 2,
   "metadata": {},
   "outputs": [],
   "source": [
    "#subir grafo\n",
    "\n",
    "## ESTE NOMBRE PUEDE VARIAR SEGUN EL ESCENARIO ELEGIDO!!!\n",
    "G=nx.read_graphml(\"001-grafo-tiempo-810lunjuev.graphml\")\n",
    "\n",
    "#CSVs de no abastecidos y surtidores\n",
    "dfSurti=generadoDF.DfGenerator('surtidoresajustados.csv')\n",
    "dfNodoNoA = generadoDF.DfGenerator('nodosnoabastecidos.csv')"
   ]
  },
  {
   "cell_type": "markdown",
   "metadata": {},
   "source": [
    "## Listas de ID de SURTIDORES Y NO ABASTECIDOS"
   ]
  },
  {
   "cell_type": "code",
   "execution_count": 3,
   "metadata": {
    "scrolled": true
   },
   "outputs": [],
   "source": [
    "#extrayendo los osmid de todo los NODOS NO ABASTECIDOS y los SURTIDORES\n",
    "\n",
    "listNoAbas=[ num for num in dfNodoNoA['osmid'] ]\n",
    "listSurti = [ osmid for osmid in dfSurti['osmid'] ]"
   ]
  },
  {
   "cell_type": "markdown",
   "metadata": {},
   "source": [
    "## Antes de obtener los costos indivuales --> Setear peso"
   ]
  },
  {
   "cell_type": "code",
   "execution_count": 4,
   "metadata": {},
   "outputs": [],
   "source": [
    "#Para distancia\n",
    "#peso = 'length'\n",
    "\n",
    "#Para tiempo\n",
    "peso = 'tiempo'"
   ]
  },
  {
   "cell_type": "code",
   "execution_count": 5,
   "metadata": {},
   "outputs": [],
   "source": [
    "#funcion de costos indiv dijkstra\n",
    "\n",
    "def CostosIndiv(G,peso):\n",
    "    listCostosIndiv= [nx.shortest_path_length(G, str(surt), str( noabas ), weight = peso) for surt in listSurti for noabas in listNoAbas]\n",
    "    return pd.DataFrame(listCostosIndiv)\n"
   ]
  },
  {
   "cell_type": "markdown",
   "metadata": {},
   "source": [
    "## Obteniendo costos individuales y guardándolos en csv"
   ]
  },
  {
   "cell_type": "code",
   "execution_count": null,
   "metadata": {},
   "outputs": [],
   "source": [
    "CostosIndividualesTotales = CostosIndiv(G,peso)\n",
    "\n",
    "#Para tener mejor orden, cambiar el nombre del csv que se exporta aquí\n",
    "#según el escenario que se usa. Para este caso es distancia\n",
    "\n",
    "CostosIndividualesTotales.to_csv('dfCostoInviduales-810lunjuev.csv',index = False )"
   ]
  },
  {
   "cell_type": "code",
   "execution_count": null,
   "metadata": {
    "scrolled": true
   },
   "outputs": [],
   "source": [
    "#Visualizar resultados de lo obtenido anteriormente\n",
    "\n",
    "dfCostosFinal=generadoDF.DfGenerator('dfCostoInviduales-810lunjuev.csv')"
   ]
  }
 ],
 "metadata": {
  "kernelspec": {
   "display_name": "Python 3",
   "language": "python",
   "name": "python3"
  },
  "language_info": {
   "codemirror_mode": {
    "name": "ipython",
    "version": 2
   },
   "file_extension": ".py",
   "mimetype": "text/x-python",
   "name": "python",
   "nbconvert_exporter": "python",
   "pygments_lexer": "ipython2",
   "version": "2.7.17"
  }
 },
 "nbformat": 4,
 "nbformat_minor": 4
}
